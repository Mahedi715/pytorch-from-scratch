{
  "nbformat": 4,
  "nbformat_minor": 0,
  "metadata": {
    "colab": {
      "provenance": [],
      "gpuType": "T4",
      "authorship_tag": "ABX9TyMb3mYt/NLjBUIM8dprDsEH"
    },
    "kernelspec": {
      "name": "python3",
      "display_name": "Python 3"
    },
    "language_info": {
      "name": "python"
    },
    "accelerator": "GPU"
  },
  "cells": [
    {
      "cell_type": "code",
      "source": [
        "import torch\n",
        "from torch import nn\n",
        "import matplotlib.pyplot as plt\n",
        "# torch.__version__"
      ],
      "metadata": {
        "id": "G2a63aLgzasg"
      },
      "execution_count": 58,
      "outputs": []
    },
    {
      "cell_type": "code",
      "source": [
        "# create known parameters\n",
        "weight=0.5\n",
        "bias=0.7\n",
        "# create some data\n",
        "start=5\n",
        "end=15\n",
        "step=0.5\n",
        "# create X and y\n",
        "X=torch.arange(start,end,step).unsqueeze(dim=1)\n",
        "y=weight*X+bias\n",
        "X[:10],y[ :10]"
      ],
      "metadata": {
        "colab": {
          "base_uri": "https://localhost:8080/"
        },
        "id": "za8mDaMe6La0",
        "outputId": "c8638bab-9399-431b-9d4f-b94b6796ddbe"
      },
      "execution_count": 59,
      "outputs": [
        {
          "output_type": "execute_result",
          "data": {
            "text/plain": [
              "(tensor([[5.0000],\n",
              "         [5.5000],\n",
              "         [6.0000],\n",
              "         [6.5000],\n",
              "         [7.0000],\n",
              "         [7.5000],\n",
              "         [8.0000],\n",
              "         [8.5000],\n",
              "         [9.0000],\n",
              "         [9.5000]]),\n",
              " tensor([[3.2000],\n",
              "         [3.4500],\n",
              "         [3.7000],\n",
              "         [3.9500],\n",
              "         [4.2000],\n",
              "         [4.4500],\n",
              "         [4.7000],\n",
              "         [4.9500],\n",
              "         [5.2000],\n",
              "         [5.4500]]))"
            ]
          },
          "metadata": {},
          "execution_count": 59
        }
      ]
    },
    {
      "cell_type": "markdown",
      "source": [
        "#Split Data into Train and Test set"
      ],
      "metadata": {
        "id": "Eqz-ve3W9iEF"
      }
    },
    {
      "cell_type": "code",
      "source": [
        "# create train/test sets\n",
        "train_split=int(0.8*len(X))\n",
        "X_train,y_train=X[:train_split],y[:train_split]\n",
        "X_test,y_test=X[train_split:],y[train_split:]\n",
        "len(X_train),len(y_train),len(X_test),len(y_test)\n"
      ],
      "metadata": {
        "colab": {
          "base_uri": "https://localhost:8080/"
        },
        "id": "DrfHhlAI9_rg",
        "outputId": "7cd311e4-d6bc-4502-caa2-d0f128399631"
      },
      "execution_count": 60,
      "outputs": [
        {
          "output_type": "execute_result",
          "data": {
            "text/plain": [
              "(16, 16, 4, 4)"
            ]
          },
          "metadata": {},
          "execution_count": 60
        }
      ]
    },
    {
      "cell_type": "markdown",
      "source": [
        "#Let's create a function to visualize data\n"
      ],
      "metadata": {
        "id": "RPBPncYP99pD"
      }
    },
    {
      "cell_type": "code",
      "source": [
        "def plot_predictions(train_data=X_train,\n",
        "                     train_labels=y_train,\n",
        "                     test_data=X_test,\n",
        "                     test_labels=y_test,\n",
        "                     predictions=None):\n",
        "\n",
        "\n",
        "  plt.figure(figsize=(10,5))\n",
        "  plt.title(\"Training and Test Data\")\n",
        "\n",
        "  plt.scatter(train_data,train_labels,c=\"r\",s=4,label=\"training data\")\n",
        "  plt.scatter(test_data,test_labels,c=\"b\",s=4,label=\"testing data\")\n",
        "  if predictions is not None:\n",
        "    plt.scatter(test_data,predictions,c=\"r\",s=4,label=\"predictions\")\n",
        "  plt.legend(prop={\"size\":14})\n",
        "  plt.show()\n"
      ],
      "metadata": {
        "id": "dihFICoa__Bn"
      },
      "execution_count": 63,
      "outputs": []
    },
    {
      "cell_type": "code",
      "source": [
        "plot_predictions()"
      ],
      "metadata": {
        "colab": {
          "base_uri": "https://localhost:8080/",
          "height": 468
        },
        "id": "lx3K6atLD4pM",
        "outputId": "8270612c-61e6-42fb-c658-1ef4a76ab120"
      },
      "execution_count": 64,
      "outputs": [
        {
          "output_type": "display_data",
          "data": {
            "text/plain": [
              "<Figure size 1000x500 with 1 Axes>"
            ],
            "image/png": "[encoded data removed]"
          },
          "metadata": {}
        }
      ]
    },
    {
      "cell_type": "code",
      "source": [],
      "metadata": {
        "id": "C4ivL8zNFBen"
      },
      "execution_count": 62,
      "outputs": []
    },
    {
      "cell_type": "code",
      "source": [
        "\n"
      ],
      "metadata": {
        "id": "pw3FI_hRFhq9"
      },
      "execution_count": 62,
      "outputs": []
    },
    {
      "cell_type": "code",
      "source": [],
      "metadata": {
        "id": "3xVIlje9GvT1"
      },
      "execution_count": 62,
      "outputs": []
    }
  ]
}